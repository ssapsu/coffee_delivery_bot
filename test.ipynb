{
 "cells": [
  {
   "cell_type": "code",
   "execution_count": 62,
   "metadata": {},
   "outputs": [
    {
     "name": "stdout",
     "output_type": "stream",
     "text": [
      "{'waypoint_graph': {'0': {'offsets': [0, 1, 4, 7, 9, 11, 14, 16, 17, 19, 21, 23, 26, 30, 32, 34, 37, 40, 42, 44, 46, 50, 53, 55, 58, 59, 62, 65, 67, 69, 72, 75, 77, 78, 82, 86, 91, 95, 101, 106], 'edges': [1, 0, 2, 16, 1, 3, 16, 2, 4, 3, 5, 4, 6, 8, 5, 7, 6, 5, 9, 8, 10, 9, 11, 10, 12, 36, 11, 13, 36, 37, 12, 14, 13, 15, 14, 25, 26, 1, 2, 17, 16, 18, 17, 19, 18, 20, 19, 21, 35, 38, 20, 22, 35, 21, 23, 22, 29, 30, 25, 15, 24, 26, 15, 25, 27, 26, 28, 27, 29, 23, 28, 30, 23, 29, 31, 30, 32, 31, 34, 36, 37, 38, 33, 35, 37, 38, 20, 21, 34, 37, 38, 11, 12, 33, 37, 12, 33, 34, 35, 36, 38, 20, 33, 34, 35, 37], 'weights': [3.5500000000000003, 3.5500000000000003, 3.5200000000000005, 2.452039967047845, 3.5200000000000005, 3.6400000000000006, 2.7369508581631488, 3.6400000000000006, 3.4399999999999995, 3.4399999999999995, 3.49, 3.49, 3.42, 4.729788578784468, 3.42, 3.5900000000000016, 3.5900000000000016, 4.729788578784468, 4.049999999999999, 4.049999999999999, 4.004996878900157, 4.004996878900157, 4.124851512478964, 4.124851512478964, 3.99, 4.529017553509811, 3.99, 4.15, 2.658138446356772, 5.279109773437184, 4.15, 4.14, 4.14, 4.18, 4.18, 3.392359061184414, 1.9722322378462425, 2.452039967047845, 2.7369508581631488, 4.35, 4.35, 3.9700000000000006, 3.9700000000000006, 3.9599999999999995, 3.9599999999999995, 4.17, 4.17, 4.1148633027112815, 2.36, 5.710770525944813, 4.1148633027112815, 4.074911041973801, 4.743595682601964, 4.074911041973801, 3.9299999999999997, 3.9299999999999997, 5.105389309347524, 4.971136690939004, 3.66, 3.392359061184414, 3.66, 3.5599999999999987, 1.9722322378462425, 3.5599999999999987, 3.380000000000001, 3.380000000000001, 3.58, 3.58, 3.4299999999999997, 5.105389309347524, 3.4299999999999997, 3.5600000000000005, 4.971136690939004, 3.5600000000000005, 3.3799999999999994, 3.3799999999999994, 1.7600000000000007, 1.7600000000000007, 2.7300000000000004, 3.568767294178762, 2.207351353998724, 3.219083720563975, 2.7300000000000004, 2.53, 3.648026863936175, 2.232576986354558, 2.36, 4.743595682601964, 2.53, 5.86801499657252, 3.6480268639361744, 4.529017553509811, 2.658138446356772, 3.568767294178762, 2.630000000000001, 5.279109773437184, 2.207351353998724, 3.648026863936175, 5.86801499657252, 2.630000000000001, 2.5300000000000002, 5.710770525944813, 3.219083720563975, 2.232576986354558, 3.6480268639361744, 2.5300000000000002]}}} {'vehicle_locations': [[0.88, 4.81]], 'capacities': [[4]], 'vehicle_time_windows': None} {'task_locations': [21, 10], 'demand': [[1, 1]], 'task_time_windows': None, 'service_times': None}\n"
     ]
    }
   ],
   "source": [
    "import json\n",
    "from pprint import pprint\n",
    "import numpy as np\n",
    "\n",
    "with open('./assets/waypoint/waypoint_graph1.json', 'r') as f:\n",
    "    data = json.load(f)\n",
    "data = dict(data)\n",
    "graph = data['graph']\n",
    "node_location = data['node_locations']\n",
    "\n",
    "with open('./assets/waypoint/vehicle_data.json','r') as f:\n",
    "    data_v = json.load(f)\n",
    "data_v = dict(data_v)\n",
    "vehicle_locations = data_v['vehicle_locations']\n",
    "capacities = data_v['capacities']\n",
    "\n",
    "with open('./assets/waypoint/orders_data.json','r') as f:\n",
    "    data_o = json.load(f)\n",
    "data_o = dict(data_o)\n",
    "task_locations = data_o['task_locations']\n",
    "demand = data_o['demand']\n",
    "\n",
    "nodes = list(graph.items())\n",
    "weightsList = []\n",
    "weightsListNested = []\n",
    "for node_num, edges in nodes:\n",
    "    weights = []\n",
    "    for edge in edges.values():\n",
    "        for element in edge:\n",
    "            node_num = int(node_num)\n",
    "            weight = np.linalg.norm(np.array(node_location[node_num])-np.array(node_location[element]))\n",
    "            weights.append(weight)\n",
    "    weightsList.extend(weights)\n",
    "    weightsListNested.append(weights)\n",
    "modified_graph = {}\n",
    "for node, edges in graph.items():\n",
    "    node_info = {}\n",
    "    node_info[\"edges\"] = edges[\"edges\"]\n",
    "    node_info[\"weights\"] = weightsListNested[int(node)]\n",
    "    modified_graph[int(node)] = node_info\n",
    "def convert_to_csr(graph):\n",
    "    num_nodes = len(graph)\n",
    "    \n",
    "    offsets = []\n",
    "    edges = []\n",
    "    weights = []\n",
    "    \n",
    "    cur_offset = 0\n",
    "    for node in range(num_nodes):\n",
    "        offsets.append(cur_offset)\n",
    "        cur_offset += len(graph[node][\"edges\"])\n",
    "        \n",
    "        edges = edges + graph[node][\"edges\"]\n",
    "        weights = weights + graph[node][\"weights\"]\n",
    "        \n",
    "    offsets.append(cur_offset)\n",
    "    \n",
    "    return np.array(offsets), np.array(edges), np.array(weights)\n",
    "offsets, edges, weights = convert_to_csr(modified_graph)\n",
    "task_location_list = []\n",
    "\n",
    "for location in task_locations:\n",
    "    for idx, node in enumerate(node_location):\n",
    "        if location == node:\n",
    "            task_location_list.append(idx)\n",
    "waypoint_graph = {}\n",
    "sum_info = {}\n",
    "sum_info[\"offsets\"] = list(offsets)\n",
    "sum_info[\"edges\"] = list(edges)\n",
    "sum_info[\"weights\"] = list(weights)\n",
    "waypoint_graph[\"waypoint_graph\"] = {}\n",
    "waypoint_graph[\"waypoint_graph\"]['0'] = sum_info\n",
    "\n",
    "fleet_data = {}\n",
    "fleet_data[\"vehicle_locations\"] = vehicle_locations\n",
    "fleet_data[\"capacities\"] = capacities\n",
    "fleet_data[\"vehicle_time_windows\"] = None\n",
    "\n",
    "task_data = {}\n",
    "task_data[\"task_locations\"] = task_location_list\n",
    "task_data[\"demand\"] = demand\n",
    "task_data[\"task_time_windows\"] = None\n",
    "task_data[\"service_times\"] = None\n",
    "\n",
    "print(waypoint_graph, fleet_data, task_data)"
   ]
  },
  {
   "cell_type": "code",
   "execution_count": null,
   "metadata": {},
   "outputs": [],
   "source": [
    "{\n",
    "    'response':  {\n",
    "        'solver_response': {\n",
    "            'status': 0, \n",
    "            'num_vehicles': 1, \n",
    "            'solution_cost': 64.7182388305664, \n",
    "            'vehicle_data': {\n",
    "                '0': {\n",
    "                    'task_id': [0, 1], \n",
    "                    'arrival_stamp': [26.562040328979492, 48.448448181152344], \n",
    "                    'task_type': ['Delivery', 'Delivery'], \n",
    "                    'route': [0, 1, 16, 17, 18, 19, 20, 21, 35, 37, 36, 11, 10, 9, 8, 5, 4], \n",
    "                    'type': ['Start', 'w', 'w', 'w', 'w', 'w', 'w', 'Task', 'w', 'w', 'w', 'w', 'Task', 'w', 'w', 'w', 'End']}}}}}"
   ]
  },
  {
   "cell_type": "code",
   "execution_count": 7,
   "metadata": {},
   "outputs": [
    {
     "name": "stdout",
     "output_type": "stream",
     "text": [
      "0\n",
      "1\n",
      "2\n"
     ]
    },
    {
     "ename": "KeyboardInterrupt",
     "evalue": "",
     "output_type": "error",
     "traceback": [
      "\u001b[0;31m---------------------------------------------------------------------------\u001b[0m",
      "\u001b[0;31mKeyboardInterrupt\u001b[0m                         Traceback (most recent call last)",
      "\u001b[0;32m/tmp/ipykernel_86722/2144937819.py\u001b[0m in \u001b[0;36m<module>\u001b[0;34m\u001b[0m\n\u001b[1;32m     10\u001b[0m \u001b[0mprint\u001b[0m\u001b[0;34m(\u001b[0m\u001b[0mqueue\u001b[0m\u001b[0;34m.\u001b[0m\u001b[0mget\u001b[0m\u001b[0;34m(\u001b[0m\u001b[0;34m)\u001b[0m\u001b[0;34m)\u001b[0m\u001b[0;34m\u001b[0m\u001b[0;34m\u001b[0m\u001b[0m\n\u001b[1;32m     11\u001b[0m \u001b[0mprint\u001b[0m\u001b[0;34m(\u001b[0m\u001b[0mqueue\u001b[0m\u001b[0;34m.\u001b[0m\u001b[0mget\u001b[0m\u001b[0;34m(\u001b[0m\u001b[0;34m)\u001b[0m\u001b[0;34m)\u001b[0m\u001b[0;34m\u001b[0m\u001b[0;34m\u001b[0m\u001b[0m\n\u001b[0;32m---> 12\u001b[0;31m \u001b[0mprint\u001b[0m\u001b[0;34m(\u001b[0m\u001b[0mqueue\u001b[0m\u001b[0;34m.\u001b[0m\u001b[0mget\u001b[0m\u001b[0;34m(\u001b[0m\u001b[0;34m)\u001b[0m\u001b[0;34m)\u001b[0m\u001b[0;34m\u001b[0m\u001b[0;34m\u001b[0m\u001b[0m\n\u001b[0m\u001b[1;32m     13\u001b[0m \u001b[0;34m\u001b[0m\u001b[0m\n\u001b[1;32m     14\u001b[0m \u001b[0;34m\u001b[0m\u001b[0m\n",
      "\u001b[0;32m~/anaconda3/lib/python3.9/queue.py\u001b[0m in \u001b[0;36mget\u001b[0;34m(self, block, timeout)\u001b[0m\n\u001b[1;32m    169\u001b[0m             \u001b[0;32melif\u001b[0m \u001b[0mtimeout\u001b[0m \u001b[0;32mis\u001b[0m \u001b[0;32mNone\u001b[0m\u001b[0;34m:\u001b[0m\u001b[0;34m\u001b[0m\u001b[0;34m\u001b[0m\u001b[0m\n\u001b[1;32m    170\u001b[0m                 \u001b[0;32mwhile\u001b[0m \u001b[0;32mnot\u001b[0m \u001b[0mself\u001b[0m\u001b[0;34m.\u001b[0m\u001b[0m_qsize\u001b[0m\u001b[0;34m(\u001b[0m\u001b[0;34m)\u001b[0m\u001b[0;34m:\u001b[0m\u001b[0;34m\u001b[0m\u001b[0;34m\u001b[0m\u001b[0m\n\u001b[0;32m--> 171\u001b[0;31m                     \u001b[0mself\u001b[0m\u001b[0;34m.\u001b[0m\u001b[0mnot_empty\u001b[0m\u001b[0;34m.\u001b[0m\u001b[0mwait\u001b[0m\u001b[0;34m(\u001b[0m\u001b[0;34m)\u001b[0m\u001b[0;34m\u001b[0m\u001b[0;34m\u001b[0m\u001b[0m\n\u001b[0m\u001b[1;32m    172\u001b[0m             \u001b[0;32melif\u001b[0m \u001b[0mtimeout\u001b[0m \u001b[0;34m<\u001b[0m \u001b[0;36m0\u001b[0m\u001b[0;34m:\u001b[0m\u001b[0;34m\u001b[0m\u001b[0;34m\u001b[0m\u001b[0m\n\u001b[1;32m    173\u001b[0m                 \u001b[0;32mraise\u001b[0m \u001b[0mValueError\u001b[0m\u001b[0;34m(\u001b[0m\u001b[0;34m\"'timeout' must be a non-negative number\"\u001b[0m\u001b[0;34m)\u001b[0m\u001b[0;34m\u001b[0m\u001b[0;34m\u001b[0m\u001b[0m\n",
      "\u001b[0;32m~/anaconda3/lib/python3.9/threading.py\u001b[0m in \u001b[0;36mwait\u001b[0;34m(self, timeout)\u001b[0m\n\u001b[1;32m    310\u001b[0m         \u001b[0;32mtry\u001b[0m\u001b[0;34m:\u001b[0m    \u001b[0;31m# restore state no matter what (e.g., KeyboardInterrupt)\u001b[0m\u001b[0;34m\u001b[0m\u001b[0;34m\u001b[0m\u001b[0m\n\u001b[1;32m    311\u001b[0m             \u001b[0;32mif\u001b[0m \u001b[0mtimeout\u001b[0m \u001b[0;32mis\u001b[0m \u001b[0;32mNone\u001b[0m\u001b[0;34m:\u001b[0m\u001b[0;34m\u001b[0m\u001b[0;34m\u001b[0m\u001b[0m\n\u001b[0;32m--> 312\u001b[0;31m                 \u001b[0mwaiter\u001b[0m\u001b[0;34m.\u001b[0m\u001b[0macquire\u001b[0m\u001b[0;34m(\u001b[0m\u001b[0;34m)\u001b[0m\u001b[0;34m\u001b[0m\u001b[0;34m\u001b[0m\u001b[0m\n\u001b[0m\u001b[1;32m    313\u001b[0m                 \u001b[0mgotit\u001b[0m \u001b[0;34m=\u001b[0m \u001b[0;32mTrue\u001b[0m\u001b[0;34m\u001b[0m\u001b[0;34m\u001b[0m\u001b[0m\n\u001b[1;32m    314\u001b[0m             \u001b[0;32melse\u001b[0m\u001b[0;34m:\u001b[0m\u001b[0;34m\u001b[0m\u001b[0;34m\u001b[0m\u001b[0m\n",
      "\u001b[0;31mKeyboardInterrupt\u001b[0m: "
     ]
    }
   ],
   "source": [
    "import queue\n",
    "\n",
    "queue = queue.Queue()\n",
    "\n",
    "queue.put(0)\n",
    "queue.put(1)\n",
    "queue.put(2)\n",
    "\n",
    "print(queue.get())\n",
    "print(queue.get())\n",
    "print(queue.get())\n",
    "print(queue.get())\n",
    "\n",
    "\n",
    "queue.qsize()"
   ]
  }
 ],
 "metadata": {
  "kernelspec": {
   "display_name": "Python 3",
   "language": "python",
   "name": "python3"
  },
  "language_info": {
   "codemirror_mode": {
    "name": "ipython",
    "version": 3
   },
   "file_extension": ".py",
   "mimetype": "text/x-python",
   "name": "python",
   "nbconvert_exporter": "python",
   "pygments_lexer": "ipython3",
   "version": "3.9.13"
  },
  "orig_nbformat": 4
 },
 "nbformat": 4,
 "nbformat_minor": 2
}
